{
 "cells": [
  {
   "cell_type": "markdown",
   "metadata": {},
   "source": [
    "# Demo1: Simple Harmonic Oscillator\n",
    "\n",
    "In this jupyter notebook, we will learn how to use the Euler's method to solve for the motions of a simple harmonic oscillaotr.\n",
    "\n",
    "&copy; Kuo-Chuan Pan, 2024\\\n",
    "For the course \"Computational Physics\" at NTHU\n",
    "\n",
    "### Governing equations\n",
    "\n",
    "The governing equations are \n",
    "$$\n",
    "a^{t^n} = - \\omega_0^2 x^{t^n},\n",
    "$$\n",
    "\n",
    "$$\n",
    "x^{t^{n+1}} = x^{t^n} + v^{t^n} \\times \\Delta t,\n",
    "$$\n",
    "and \n",
    "$$\n",
    "v^{t^{n+1}} = v^{t^n} + a^{t^n} \\times \\Delta t.\n",
    "$$\n",
    "\n",
    "### Initial Conditions\n",
    "\n",
    "At time $t=0$, position $x=1$ and velocity $v=0$.\\\n",
    "Set $A=k=m=1$, and $\\omega_0=\\sqrt{k/m}=1$ as well.\n",
    "\n",
    "## Exercie 1: \n",
    "Use a small time step $\\Delta t=0.01$ and solve for the solution at $t=20$."
   ]
  },
  {
   "cell_type": "code",
   "execution_count": null,
   "metadata": {},
   "outputs": [],
   "source": [
    "# import required libraries\n",
    "import numpy as np\n",
    "import matplotlib.pyplot as plt"
   ]
  },
  {
   "cell_type": "code",
   "execution_count": null,
   "metadata": {},
   "outputs": [],
   "source": [
    "#\n",
    "# This is a simple example of how to solve a simple harmonic oscillator using the Euler method\n",
    "#\n",
    "\n",
    "# Step 1: set up the parameters of the problem\n",
    "A=1\n",
    "k=1\n",
    "m=1\n",
    "omega0 = np.sqrt(k/m)\n",
    "dt = 0.01\n",
    "\n",
    "# Step 2: set up the time and solution arrays\n",
    "times = np.linspace(0, 20, int(20/dt)+1,endpoint=True)\n",
    "posx = np.zeros(len(times))\n",
    "velx = np.zeros(len(times))\n",
    "\n",
    "# Step 3: set up the initial conditions\n",
    "posx[0] = 1\n",
    "velx[0] = 0\n",
    "\n",
    "# Step 4: solve the difference equation using the Euler method\n",
    "for i in range(1,len(times)):\n",
    "    posx[i] = posx[i-1] + velx[i-1]*dt\n",
    "    velx[i] = velx[i-1] - (omega0**2)*posx[i-1]*dt"
   ]
  },
  {
   "cell_type": "code",
   "execution_count": null,
   "metadata": {},
   "outputs": [],
   "source": [
    "# Step 5: plot the solution\n",
    "plt.plot(times,posx)\n",
    "plt.xlabel('Time (s)')\n",
    "plt.ylabel('Position (m)')\n",
    "plt.title('Simple Harmonic Motion')\n",
    "plt.show()"
   ]
  },
  {
   "cell_type": "markdown",
   "metadata": {},
   "source": [
    "We could verify our numerical solution be comparing it with the analytical solutions.\n",
    "The analytical solutions are:\n",
    "\n",
    "$$\n",
    "x = A \\cos(\\omega_0 t + \\phi),\n",
    "$$\n",
    "and\n",
    "\n",
    "$$\n",
    "v = -A \\omega_0 \\sin(\\omega_0 t + \\delta)."
   ]
  },
  {
   "cell_type": "code",
   "execution_count": null,
   "metadata": {},
   "outputs": [],
   "source": [
    "# Step 6: evaluate the analytical solution\n",
    "posx_analytical = A*np.cos(omega0*times)\n",
    "plt.plot(times,posx_analytical,'-',label='Analytical')\n",
    "plt.plot(times,posx,'r--',label='Euler')\n",
    "plt.xlabel('Time (s)')\n",
    "plt.ylabel('Position (m)')\n",
    "plt.title('Simple Harmonic Motion')\n",
    "plt.legend()\n",
    "plt.show()"
   ]
  },
  {
   "cell_type": "markdown",
   "metadata": {},
   "source": [
    "Another way to chekc the accuray of our numerical solution is to check the energy conservation and the phase-sapce diagram."
   ]
  },
  {
   "cell_type": "code",
   "execution_count": null,
   "metadata": {},
   "outputs": [],
   "source": [
    "# Step 7: evaluate the energy (error) of the system\n",
    "energy = 0.5*m*velx**2 + 0.5*k*posx**2\n",
    "plt.plot(times,energy)\n",
    "plt.xlabel('Time (s)')\n",
    "plt.ylabel('Energy (J)')\n",
    "plt.title('Energy of the System')"
   ]
  },
  {
   "cell_type": "code",
   "execution_count": null,
   "metadata": {},
   "outputs": [],
   "source": [
    "# Step 8: evaluate the phase space\n",
    "plt.figure()\n",
    "plt.plot(posx,velx)\n",
    "plt.gca().set_aspect('equal', adjustable='box')\n",
    "plt.xlabel('Position (m)')\n",
    "plt.ylabel('Velocity (m/s)')\n",
    "plt.title('Phase Space')\n",
    "plt.show()"
   ]
  },
  {
   "cell_type": "markdown",
   "metadata": {},
   "source": [
    "## Exercise 2: \n",
    "Check if the accuracy can be improved by reducing the time step to $\\Delta t=0.001$."
   ]
  },
  {
   "cell_type": "code",
   "execution_count": null,
   "metadata": {},
   "outputs": [],
   "source": [
    "# TODO\n",
    "\n",
    "\n",
    "\n",
    "\n",
    "\n"
   ]
  },
  {
   "cell_type": "markdown",
   "metadata": {},
   "source": [
    "### Note\n",
    "\n",
    "Reducing the time step is not the best solution. The better solution is to use higher-order schemes. Do NOT use Eulter's method in any production runs. "
   ]
  }
 ],
 "metadata": {
  "kernelspec": {
   "display_name": "comphys-112",
   "language": "python",
   "name": "python3"
  },
  "language_info": {
   "codemirror_mode": {
    "name": "ipython",
    "version": 3
   },
   "file_extension": ".py",
   "mimetype": "text/x-python",
   "name": "python",
   "nbconvert_exporter": "python",
   "pygments_lexer": "ipython3",
   "version": "3.11.5"
  }
 },
 "nbformat": 4,
 "nbformat_minor": 2
}

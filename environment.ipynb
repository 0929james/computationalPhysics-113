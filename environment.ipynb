{
 "cells": [
  {
   "cell_type": "markdown",
   "metadata": {},
   "source": [
    "# Tutorial 0: Python Programming Enviroment\n",
    "\n",
    "In order to check you have the correct enviroment for this course.\\\n",
    "Please try running the below codes even if you don't know what it is. \n",
    "\n",
    "\n",
    "2024.09.08\\\n",
    "Copyright: Kuo-Chuan Pan (NTHU, IoA/Phys)"
   ]
  },
  {
   "cell_type": "markdown",
   "metadata": {},
   "source": [
    "---\n",
    "\n",
    "## Install packages\n",
    "\n",
    "First, let's install the following packages: `numpy`, `scipy`, `matplotlib`, and `numba`。\n",
    "\n",
    "1. Open a terminal in the toolbar\n",
    "2. activate the conda enviroment if not loaded yet. (`conda activate comphys-113`)\n",
    "3. In stall the packages by `conda install numpy scipy matplotlib numba`.\n",
    "\n",
    "Alternatively, you might be able to install the packages in a jupyter notebook by uncomment the below code."
   ]
  },
  {
   "cell_type": "code",
   "execution_count": 1,
   "metadata": {},
   "outputs": [],
   "source": [
    "#  Uncomment the below line to intall numpy/scipy/matplotlib/numba\n",
    "#!conda install -c conda-forge numpy scipy matplotlib numba -y"
   ]
  },
  {
   "cell_type": "markdown",
   "metadata": {},
   "source": [
    "---\n",
    "\n",
    "## Import Packages\n",
    "\n",
    "Once you have installed necessary packages, you could import the package by `import <module>`, `from <module> import <name>`, ... etc."
   ]
  },
  {
   "cell_type": "code",
   "execution_count": 2,
   "metadata": {},
   "outputs": [],
   "source": [
    "import numpy as np\n",
    "from scipy import integrate\n",
    "import matplotlib.pyplot as plt\n",
    "from numba import jit"
   ]
  },
  {
   "cell_type": "markdown",
   "metadata": {},
   "source": [
    "---\n",
    "\n",
    "## Use the package\n",
    "\n",
    "Test a simple finite itegral with the `integrate` module in `scipy`."
   ]
  },
  {
   "cell_type": "markdown",
   "metadata": {},
   "source": [
    "**Example 1**: Consider the integral:\\\n",
    "\n",
    "\n",
    "$\\begin{equation}\n",
    "E_n(x) = \\int_1^\\infty \\frac{e^{-xt}}{t^n} dt.\n",
    "\\end{equation}$"
   ]
  },
  {
   "cell_type": "code",
   "execution_count": null,
   "metadata": {},
   "outputs": [],
   "source": [
    "# define the function to integrate\n",
    "def integrand(t,n,x):\n",
    "    return np.exp(-x*t)/t**n\n",
    "\n",
    "n = 1\n",
    "x = 2\n",
    "\n",
    "I = integrate.quad(integrand, 1, np.inf, args=(n,x))\n",
    "print(\"The solution is \",I[0])"
   ]
  },
  {
   "cell_type": "markdown",
   "metadata": {},
   "source": [
    "**Example 2**: Visualize a potential\n",
    "\n",
    "Make sure if we could plot a figure with `matplotlib`."
   ]
  },
  {
   "cell_type": "code",
   "execution_count": 4,
   "metadata": {},
   "outputs": [],
   "source": [
    "x = np.linspace(-1,1, 64, endpoint=True)\n",
    "y = np.linspace(-1,1, 64, endpoint=True)\n",
    "xx, yy = np.meshgrid(x,y, indexing='ij')\n",
    "zz = 1/(xx**2 + yy**2)"
   ]
  },
  {
   "cell_type": "code",
   "execution_count": null,
   "metadata": {},
   "outputs": [],
   "source": [
    "plt.figure(1)\n",
    "plt.pcolormesh(xx,yy,np.log(zz))\n",
    "plt.colorbar()\n",
    "plt.xlabel('X [code length]')\n",
    "plt.ylabel('Y [code length]')"
   ]
  },
  {
   "cell_type": "markdown",
   "metadata": {},
   "source": [
    "If you could see a colorful plot with a strong point source at the center then your enviroment should be ok."
   ]
  }
 ],
 "metadata": {
  "kernelspec": {
   "display_name": "comphys-112",
   "language": "python",
   "name": "python3"
  },
  "language_info": {
   "codemirror_mode": {
    "name": "ipython",
    "version": 3
   },
   "file_extension": ".py",
   "mimetype": "text/x-python",
   "name": "python",
   "nbconvert_exporter": "python",
   "pygments_lexer": "ipython3",
   "version": "3.11.9"
  },
  "orig_nbformat": 4
 },
 "nbformat": 4,
 "nbformat_minor": 2
}
